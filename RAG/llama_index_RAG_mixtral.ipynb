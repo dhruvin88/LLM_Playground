{
 "cells": [
  {
   "cell_type": "code",
   "execution_count": 1,
   "metadata": {},
   "outputs": [],
   "source": [
    "from llama_index import VectorStoreIndex, SimpleDirectoryReader, LLMPredictor, ServiceContext, StorageContext, load_index_from_storage\n",
    "import os\n",
    "from langchain import HuggingFaceHub\n",
    "import sys\n",
    "import logging\n",
    "import torch\n",
    "\n",
    "sys.path.append('../')\n",
    "from apikeys import huggingface_key\n",
    "from huggingface_hub import InferenceClient\n",
    "import tqdm as notebook_tqdm"
   ]
  },
  {
   "cell_type": "code",
   "execution_count": 2,
   "metadata": {},
   "outputs": [],
   "source": [
    "logging.basicConfig(stream=sys.stdout, level=logging.INFO)\n",
    "logging.getLogger().addHandler(logging.StreamHandler(stream=sys.stdout))"
   ]
  },
  {
   "cell_type": "code",
   "execution_count": 3,
   "metadata": {},
   "outputs": [],
   "source": [
    "os.environ['HUGGINGFACEHUB_API_TOKEN'] = huggingface_key"
   ]
  },
  {
   "cell_type": "code",
   "execution_count": 4,
   "metadata": {},
   "outputs": [],
   "source": [
    "client = InferenceClient(\"mistralai/Mixtral-8x7B-Instruct-v0.1\")"
   ]
  },
  {
   "cell_type": "code",
   "execution_count": 5,
   "metadata": {},
   "outputs": [],
   "source": [
    "def format_prompt(message, history):\n",
    "    prompt = \"<s>\"\n",
    "    for user_prompt, bot_response in history:\n",
    "        prompt += f\"[INST] {user_prompt} [/INST]\"\n",
    "        prompt += f\" {bot_response}</s> \"\n",
    "        prompt += f\"[INST] {message} [/INST]\"\n",
    "    return prompt"
   ]
  },
  {
   "cell_type": "code",
   "execution_count": 6,
   "metadata": {},
   "outputs": [],
   "source": [
    "def format_prompt2(message):\n",
    "    prompt = \"<s>\"\n",
    "    prompt += f\"[INST] {message} [/INST]\"\n",
    "    prompt += f\" </s> \"\n",
    "        #prompt += f\"[INST] {message} [/INST]\"\n",
    "    return prompt"
   ]
  },
  {
   "cell_type": "code",
   "execution_count": 7,
   "metadata": {},
   "outputs": [],
   "source": [
    "def generate(\n",
    "    prompt, history, temperature=0.2, max_new_tokens=256, top_p=0.95, repetition_penalty=1.0,\n",
    "):\n",
    "    temperature = float(temperature)\n",
    "    if temperature < 1e-2:\n",
    "        temperature = 1e-2\n",
    "    top_p = float(top_p)\n",
    "\n",
    "    generate_kwargs = dict(\n",
    "        temperature=temperature,\n",
    "        max_new_tokens=max_new_tokens,\n",
    "        top_p=top_p,\n",
    "        repetition_penalty=repetition_penalty,\n",
    "        do_sample=True,\n",
    "        seed=42,\n",
    "    )\n",
    "\n",
    "    formatted_prompt = format_prompt2(prompt)\n",
    "    print(f\"prompt: {formatted_prompt}\")\n",
    "\n",
    "    stream = client.text_generation(formatted_prompt, **generate_kwargs, stream=True, details=True, return_full_text=False)\n",
    "    output = \"\"\n",
    "\n",
    "    for response in stream:\n",
    "        output += response.token.text\n",
    "        yield output\n",
    "    return output"
   ]
  },
  {
   "cell_type": "code",
   "execution_count": 8,
   "metadata": {},
   "outputs": [
    {
     "name": "stdout",
     "output_type": "stream",
     "text": [
      "prompt: <s>[INST] how sleep should a newborn get? [/INST] </s> \n"
     ]
    }
   ],
   "source": [
    "for line in generate(\"how sleep should a newborn get?\", [(\"\",\"\")]):\n",
    "    continue"
   ]
  },
  {
   "cell_type": "code",
   "execution_count": 9,
   "metadata": {},
   "outputs": [
    {
     "name": "stdout",
     "output_type": "stream",
     "text": [
      "\n",
      "Newborns generally require a lot of sleep to support their rapid growth and development. On average, newborns (0-3 months old) need about 14-16 hours of sleep per day. However, it's important to note that newborns have not yet established a regular sleep-wake cycle, so they may sleep for short periods of time throughout the day and night.\n",
      "\n",
      "During the first few weeks of life, newborns may only sleep for 1-2 hours at a time before waking up to feed. As they grow and develop, their sleep patterns will become more predictable, and they may start to sleep for longer stretches at night.\n",
      "\n",
      "It's also important to note that newborns should be put to sleep on their backs on a firm, flat surface to reduce the risk of sudden infant death syndrome (SIDS). Parents and caregivers should also avoid letting newborns sleep for long periods of time in car seats, strollers, or other devices, as this can increase the risk of suffocation or other injuries.\n",
      "\n",
      "If you have concerns about your newborn's sleep patterns or overall health, it's always a good idea to consult with a\n"
     ]
    }
   ],
   "source": [
    "print(line)"
   ]
  },
  {
   "cell_type": "code",
   "execution_count": 10,
   "metadata": {},
   "outputs": [],
   "source": [
    "from llama_index.prompts import PromptTemplate\n",
    "\n",
    "template = (\n",
    "    \"<s> [INST] We have provided context information below. If information does not provide enough information to ask the question respond with not enough context\\n\"\n",
    "    \"---------------------\\n\"\n",
    "    \"{context_str}\"\n",
    "    \"\\n---------------------\\n\"\n",
    "    \"Given this information, please answer the question: {query_str}\\n [/INST] </s> \"\n",
    ")\n",
    "qa_template = PromptTemplate(template)"
   ]
  },
  {
   "cell_type": "code",
   "execution_count": 11,
   "metadata": {},
   "outputs": [],
   "source": [
    "from llama_index.llms import HuggingFaceInferenceAPI\n",
    "mixtral = HuggingFaceInferenceAPI(\n",
    "    model_name=\"mistralai/Mixtral-8x7B-Instruct-v0.1\", token=huggingface_key\n",
    ")"
   ]
  },
  {
   "cell_type": "code",
   "execution_count": 12,
   "metadata": {},
   "outputs": [],
   "source": [
    "service_context = ServiceContext.from_defaults(\n",
    "    llm=mixtral, embed_model=\"local:BAAI/bge-small-en-v1.5\"\n",
    ")"
   ]
  },
  {
   "cell_type": "code",
   "execution_count": 13,
   "metadata": {},
   "outputs": [
    {
     "data": {
      "text/plain": [
       "'\\nllm = LLMPredictor(llm=HuggingFaceHub(repo_id=\"mistralai/Mixtral-8x7B-Instruct-v0.1\",verbose=True))\\nservice_context = ServiceContext.from_defaults(\\n    llm_predictor=llm, embed_model=\"local:BAAI/bge-small-en-v1.5\"\\n)\\n'"
      ]
     },
     "execution_count": 13,
     "metadata": {},
     "output_type": "execute_result"
    }
   ],
   "source": [
    "'''\n",
    "llm = LLMPredictor(llm=HuggingFaceHub(repo_id=\"mistralai/Mixtral-8x7B-Instruct-v0.1\",verbose=True))\n",
    "service_context = ServiceContext.from_defaults(\n",
    "    llm_predictor=llm, embed_model=\"local:BAAI/bge-small-en-v1.5\"\n",
    ")\n",
    "'''"
   ]
  },
  {
   "cell_type": "code",
   "execution_count": 14,
   "metadata": {},
   "outputs": [],
   "source": [
    "# load the documents and create the index\n",
    "documents = SimpleDirectoryReader(\"../data\").load_data()\n",
    "index = VectorStoreIndex.from_documents(documents,service_context=service_context)"
   ]
  },
  {
   "cell_type": "code",
   "execution_count": 15,
   "metadata": {},
   "outputs": [],
   "source": [
    "from llama_index.llms import ChatMessage, MessageRole\n",
    "from llama_index.prompts import ChatPromptTemplate\n",
    "\n",
    "# Text QA Prompt\n",
    "chat_text_qa_msgs = [\n",
    "    ChatMessage(\n",
    "        role=MessageRole.SYSTEM,\n",
    "        content=(\n",
    "            \"Always answer the question, even if the context isn't helpful.\"\n",
    "        ),\n",
    "    ),\n",
    "    ChatMessage(\n",
    "        role=MessageRole.USER,\n",
    "        content=(\n",
    "            \"Context information is below.\\n\"\n",
    "            \"---------------------\\n\"\n",
    "            \"{context_str}\\n\"\n",
    "            \"---------------------\\n\"\n",
    "            \"Given the context information and not prior knowledge, \"\n",
    "            \"answer the question: {query_str}\\n\"\n",
    "        ),\n",
    "    ),\n",
    "]\n",
    "text_qa_template = ChatPromptTemplate(chat_text_qa_msgs)\n",
    "\n",
    "# Refine Prompt\n",
    "chat_refine_msgs = [\n",
    "    ChatMessage(\n",
    "        role=MessageRole.SYSTEM,\n",
    "        content=(\n",
    "            \"Always answer the question, even if the context isn't helpful.\"\n",
    "        ),\n",
    "    ),\n",
    "    ChatMessage(\n",
    "        role=MessageRole.USER,\n",
    "        content=(\n",
    "            \"We have the opportunity to refine the original answer \"\n",
    "            \"(only if needed) with some more context below.\\n\"\n",
    "            \"------------\\n\"\n",
    "            \"{context_msg}\\n\"\n",
    "            \"------------\\n\"\n",
    "            \"Given the new context, refine the original answer to better \"\n",
    "            \"answer the question: {query_str}. \"\n",
    "            \"If the context isn't useful, output the original answer again.\\n\"\n",
    "            \"Original Answer: {existing_answer}\"\n",
    "        ),\n",
    "    ),\n",
    "]\n",
    "refine_template = ChatPromptTemplate(chat_refine_msgs)"
   ]
  },
  {
   "cell_type": "code",
   "execution_count": 16,
   "metadata": {},
   "outputs": [
    {
     "name": "stdout",
     "output_type": "stream",
     "text": [
      " Based on the provided context, a newborn should ideally get around 16-20 hours of sleep in a 24-hour period. This is divided into several naps throughout the day and night, with the longest stretch of sleep typically occurring at night. It's important to establish healthy sleep habits early on, such as creating a sleep-conducive environment, maintaining a consistent bedtime routine, and ensuring there's enough time between feedings and sleep.\n"
     ]
    }
   ],
   "source": [
    "\n",
    "print(\n",
    "    index.as_query_engine(\n",
    "        text_qa_template=text_qa_template, refine_template=refine_template, similarity_top_k=6\n",
    "    ).query(\"how much sleep should a newborn get?\")\n",
    ")\n",
    "#query_engine = index.as_query_engine()\n",
    "#response = query_engine.query(\"how much should a one month old drink?\")\n",
    "#print(response)"
   ]
  },
  {
   "cell_type": "code",
   "execution_count": 17,
   "metadata": {},
   "outputs": [
    {
     "name": "stdout",
     "output_type": "stream",
     "text": [
      "16 -20 hours a day.\n"
     ]
    }
   ],
   "source": [
    "query_engine = index.as_query_engine()\n",
    "response = query_engine.query(\"how much sleep should a newborn get?\")\n",
    "print(response)"
   ]
  },
  {
   "cell_type": "code",
   "execution_count": 18,
   "metadata": {},
   "outputs": [],
   "source": [
    "eval_questions = [\n",
    "    \"when should you worry about baby split up?\",\n",
    "    \"how often should you feed your baby?\",\n",
    "    \"how much sleep should your baby get?\",\n",
    "    \"how often should a baby poop?\",\n",
    "    \"how should a clean my baby?\"\n",
    "]"
   ]
  },
  {
   "cell_type": "code",
   "execution_count": 19,
   "metadata": {},
   "outputs": [
    {
     "name": "stdout",
     "output_type": "stream",
     "text": [
      "\n",
      "Based on the new context provided, it seems that you are interested in knowing when to seek medical attention for a crying baby. While the original answer I provided earlier is still valid, I will refine it to better fit the context.\n",
      "\n",
      "You should worry about a baby's crying and consider seeking medical attention if it is persistent (crying for more than 3 hours a day, three or more days a week), accompanied by signs of distress such as abdominal pain, a bright red or purple pin-prickly rash that does not blanch to white when you apply pressure, hive-like rash all over with facial swelling, difficulty breathing, or lips turning blue or purple. These could be signs of serious conditions such as colic or other health issues. However, if your child is gaining weight on schedule and exhibiting repeated, persistent crying, it's important to consult with your pediatrician to rule out other causes for your infant's distress.\n",
      "------------------------\n",
      "\n",
      "\n",
      "Refined Answer:\n",
      "\n",
      "According to the provided context, during the first 4 months of life, most babies get total nutrition mainly from breast milk or formula feeding. Specifically, for a baby aged 2-4 weeks, breast or bottle feedings should take no longer than 30 minutes—start to finish. The bottle contains 3-4 ounces of breast milk or formula. Here's a typical schedule:\n",
      "\n",
      "- Between 6 and 7 a.m.: Feed, then put the baby back down for a nap.\n",
      "- 9 a.m.: Feed, regardless of when the baby ate last.\n",
      "- 12 noon: Feed, even if you have to wake the baby.\n",
      "- 3 p.m.: Feed, even if you have to wake the baby.\n",
      "- 6 p.m.: \"Supper Feed\". After this, do not feed again until 9 p.m.\n",
      "- 9 p.m.: Begin \"Bedtime Feeding\".\n",
      "\n",
      "In addition, the baby may need to be fed in the middle of the night, typically between 12 a.m. and 2 a.m. It\n",
      "------------------------\n",
      "\n",
      "\n",
      "With the additional context, it appears that the Moms on Call guidelines recommend establishing healthy sleep habits for your baby, which includes creating a safe and boring sleep environment, using white noise, maintaining a consistent bedtime routine, and adjusting daytime activities to promote better nighttime sleep. The guidelines also suggest that newborns sleep about 16-20 hours a day, and as they grow older, most formula-fed babies will sleep through the night by 6-8 weeks, while breast-fed babies will sleep through the night by 8-12 weeks of age. However, these are general guidelines and each baby may have different sleep patterns. It's important to follow the individual sleep cues of your baby and consult with a healthcare professional if you have any concerns about your baby's sleep.\n",
      "------------------------\n",
      "\n",
      "\n",
      "Based on the new context provided, the answer to how often a baby should poop can be further clarified. For breastfed babies, it's normal to have 8 to 12 stools per day in the first few weeks of life, which can decrease to 3 to 4 stools per day after the first month. For formula-fed babies, stools may be less frequent, often once every 1-2 days. However, as mentioned in the context, infrequent stooling is not a problem and does not have to be treated if the baby is happy and drinking well. If the baby is fussy, has persistent green and more watery stools than normal, or if there are concerns about the baby's bowel movements, it's best to consult with a healthcare provider.\n",
      "------------------------\n",
      "\n",
      "\n",
      "To clean your baby, you can follow these steps:\n",
      "\n",
      "1. Prepare a soft washcloth, clean or warm water in a tub or sink, and mild unscented soap or no soap and a towel.\n",
      "\n",
      "2. Undress your baby and wrap him or her in a towel to keep warm.\n",
      "\n",
      "3. Wipe your baby's face with a washcloth and no soap. Be sure to clean around the eyes, nose, and mouth.\n",
      "\n",
      "4. If your baby has hair, wet it and gently apply baby shampoo. Rinse thoroughly.\n",
      "\n",
      "5. Unwrap your baby and lay him or her on the changing table or a safe, flat surface.\n",
      "\n",
      "6. Wash your baby's body with the washcloth, starting from the top and moving downwards. Clean the diaper area last. Be sure to clean well between the skin folds.\n",
      "\n",
      "7. Rinse your baby with clean water if you used soap.\n",
      "\n",
      "8. Pat your baby dry with a towel.\n",
      "\n",
      "Remember, never leave your baby alone during bath time. If your baby is cold, try skin-to-skin contact to warm your baby. \n",
      "------------------------\n"
     ]
    }
   ],
   "source": [
    "for question in eval_questions:\n",
    "    print(\n",
    "        index.as_query_engine(\n",
    "            text_qa_template=text_qa_template, refine_template=refine_template, similarity_top_k=6\n",
    "        ).query(question)\n",
    "    )\n",
    "    print(\"------------------------\")"
   ]
  }
 ],
 "metadata": {
  "kernelspec": {
   "display_name": "base",
   "language": "python",
   "name": "python3"
  },
  "language_info": {
   "codemirror_mode": {
    "name": "ipython",
    "version": 3
   },
   "file_extension": ".py",
   "mimetype": "text/x-python",
   "name": "python",
   "nbconvert_exporter": "python",
   "pygments_lexer": "ipython3",
   "version": "3.10.13"
  },
  "orig_nbformat": 4
 },
 "nbformat": 4,
 "nbformat_minor": 2
}
